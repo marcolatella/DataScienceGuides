{
 "cells": [
  {
   "cell_type": "markdown",
   "source": [
    "### Likelihood\n",
    "It is very important to understand the difference between Probability & the Likelihood.\n",
    "\n",
    "Probability corresponds to finding the chance of something given a sample distribution of the data, while on the other hand, Likelihood refers to finding the best distribution of the data given a particular value of some feature or some situation in the data.\n",
    "\n",
    "Consider you measured the height of 100 women, the mean and the standard deviation are constant, meaning that these data don't change. Immagine a mean of 160cm and a std of 10cm.\n",
    "\n",
    "The probability of height > 165cm can be calculated as:\n",
    "\\begin{equation}\n",
    "P(Height > 165cm | \\mu=165, \\sigma=10cm)\n",
    "\\end{equation}\n",
    "\n",
    "In probability calculation, the feature value can be varied, but the features (mean and standard deviation) of the data distribution cannot be changed."
   ],
   "metadata": {
    "collapsed": false
   }
  },
  {
   "cell_type": "markdown",
   "source": [
    "Likelihood calculation involves calculating the best distribution or best characteristics of data given a particular feature value or situation.\n",
    "\n",
    "In this case the Likelihood is calculated as follows:\n",
    "\\begin{equation}\n",
    "Likelihood(\\mu=165, \\sigma=10cm | Height > 165cm)\n",
    "\\end{equation}\n",
    "\n",
    "In the calculation of the Likelihood, the equation of the conditional probability flips as compared to the equation in the probability calculation.\n",
    "\n",
    "Here, the Mean & Standard Deviation of the data will be varied in order to get the maximum likelihood for height > 170 cm.\n",
    "This means that if we do several measurements of 100 women heights we could get different mean and standard deviation. So, by doing this we could find the best parameters that better describe the distribution of the height.\n",
    "\n",
    "Of course, we have to assume that our data follows a certain distribution (Es. Normal) and then compute the maximum likelihood estimation to find the best parameters of that distribution.\n",
    "\n",
    "The reason you want to fit a distribution to your data is it can be easier to work with and it is also more general (it applies to every experiment of the same type)."
   ],
   "metadata": {
    "collapsed": false
   }
  },
  {
   "cell_type": "code",
   "execution_count": null,
   "outputs": [],
   "source": [],
   "metadata": {
    "collapsed": false
   }
  }
 ],
 "metadata": {
  "kernelspec": {
   "display_name": "Python 3",
   "language": "python",
   "name": "python3"
  },
  "language_info": {
   "codemirror_mode": {
    "name": "ipython",
    "version": 2
   },
   "file_extension": ".py",
   "mimetype": "text/x-python",
   "name": "python",
   "nbconvert_exporter": "python",
   "pygments_lexer": "ipython2",
   "version": "2.7.6"
  }
 },
 "nbformat": 4,
 "nbformat_minor": 0
}
