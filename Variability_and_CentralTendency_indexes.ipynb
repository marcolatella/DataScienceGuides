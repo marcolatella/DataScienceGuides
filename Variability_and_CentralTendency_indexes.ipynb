{
 "cells": [
  {
   "cell_type": "markdown",
   "source": [
    "### Requirements"
   ],
   "metadata": {
    "collapsed": false
   }
  },
  {
   "cell_type": "code",
   "execution_count": 1,
   "metadata": {
    "collapsed": true
   },
   "outputs": [],
   "source": [
    "import math\n",
    "import numpy as np"
   ]
  },
  {
   "cell_type": "markdown",
   "source": [
    "### Central tendency indexes"
   ],
   "metadata": {
    "collapsed": false
   }
  },
  {
   "cell_type": "markdown",
   "source": [
    "#### Mean\n",
    "Given a series of values $x_1, x_2, ... , x_n$ the mean is defined as follows\n",
    "\\begin{equation}\n",
    "\\mu = \\frac{1}{n}\\sum_{i=1}^nx_i =\\frac{x_1, x_2, ... , x_n}{n}\n",
    "\\end{equation}\n",
    "To calculate the mean of a series in numpy you can use the method .mean()"
   ],
   "metadata": {
    "collapsed": false
   }
  },
  {
   "cell_type": "code",
   "execution_count": 2,
   "outputs": [
    {
     "data": {
      "text/plain": "0.5096409773999343"
     },
     "execution_count": 2,
     "metadata": {},
     "output_type": "execute_result"
    }
   ],
   "source": [
    "values = np.random.rand(100)\n",
    "values.mean()"
   ],
   "metadata": {
    "collapsed": false
   }
  },
  {
   "cell_type": "markdown",
   "source": [
    "The mean is that point that is less distant from all the other points of the series. Meaning that is the value $x$ that minimize the function:\n",
    "\\begin{equation}\n",
    "f(x) = \\sum_{i=1}^n(x - x_i)^2\n",
    "\\end{equation}"
   ],
   "metadata": {
    "collapsed": false
   }
  },
  {
   "cell_type": "markdown",
   "source": [
    "#### Median\n",
    "It is denoted as $\\hat{x}$ and represents the value that precedes as many elements of a series as follows. If you sort a series in ascending order $x_{(1)}, x_{(2)}, ... , x_{(n)}$, the median is the element in position $(n+1)/2$ if $n$ is odd, or the arithmetic mean between the elements of position $n/2$ and $n/2 + 1$ if it is even."
   ],
   "metadata": {
    "collapsed": false
   }
  },
  {
   "cell_type": "code",
   "execution_count": 3,
   "outputs": [
    {
     "name": "stdout",
     "output_type": "stream",
     "text": [
      "0.5063803844527567\n"
     ]
    },
    {
     "data": {
      "text/plain": "0.5063803844527567"
     },
     "execution_count": 3,
     "metadata": {},
     "output_type": "execute_result"
    }
   ],
   "source": [
    "# Manually implemented\n",
    "values.sort()\n",
    "n = len(values)\n",
    "if n % 2 == 0:\n",
    "    print(np.mean([values[n//2-1], values[n//2]]))\n",
    "else:\n",
    "    print(values[(n-1)//2])\n",
    "\n",
    "# Numpy function\n",
    "np.median(values)"
   ],
   "metadata": {
    "collapsed": false
   }
  },
  {
   "cell_type": "markdown",
   "source": [
    "### Variability indexes"
   ],
   "metadata": {
    "collapsed": false
   }
  },
  {
   "cell_type": "markdown",
   "source": [
    "#### Variance\n",
    "It provides information on how homogeneity and inhomogeneity of data. In other words it tells how much the values are spread around the mean.\n",
    "\\begin{equation}\n",
    "\\sigma^2 = \\frac{1}{n}\\sum_{i=1}^n(x_i - \\mu)^2\n",
    "\\end{equation}"
   ],
   "metadata": {
    "collapsed": false
   }
  },
  {
   "cell_type": "code",
   "execution_count": 4,
   "outputs": [
    {
     "data": {
      "text/plain": "0.09381087913770067"
     },
     "execution_count": 4,
     "metadata": {},
     "output_type": "execute_result"
    }
   ],
   "source": [
    "values.var()"
   ],
   "metadata": {
    "collapsed": false
   }
  },
  {
   "cell_type": "markdown",
   "source": [
    "Since the dimension of the variance is the square of the data one, it is a common practice to use another variability index called standard deviation. It is the square root of the variance.\n",
    "\\begin{equation}\n",
    "\\sigma = \\sqrt{\\frac{1}{n}\\sum_{i=1}^n(x_i - \\mu)^2}\n",
    "\\end{equation}"
   ],
   "metadata": {
    "collapsed": false
   }
  },
  {
   "cell_type": "code",
   "execution_count": 5,
   "outputs": [
    {
     "name": "stdout",
     "output_type": "stream",
     "text": [
      "Numpy std: 0.30628561692920003\n",
      "square root of variance: 0.30628561692920003\n"
     ]
    }
   ],
   "source": [
    "print(f\"Numpy std: {values.std()}\")\n",
    "print(f\"square root of variance: {math.sqrt(values.var())}\")"
   ],
   "metadata": {
    "collapsed": false
   }
  },
  {
   "cell_type": "markdown",
   "source": [
    "### Coefficient of Variation\n",
    "\n",
    "In probability theory and statistics, the coefficient of variation (CV), also known as relative standard deviation (RSD), is a standardized measure of dispersion of a probability distribution or frequency distribution. It is often expressed as a percentage, and is defined as the ratio of the standard deviation $\\sigma$ to the mean $\\mu$ (or its absolute value, | $\\sigma$ | |$\\mu$ |).\n",
    "\\begin{equation}\n",
    "c.v. = \\frac{\\sigma}{\\mu}\n",
    "\\end{equation}\n",
    "\n",
    "The coefficient of variation makes it possible to assess the dispersion of values around the mean regardless of the unit of measurement. For example, the standard deviation of a sample of incomes expressed in liras is completely different than the standard deviation of the same incomes expressed in euros, while the coefficient of variation is the same in both cases."
   ],
   "metadata": {
    "collapsed": false
   }
  },
  {
   "cell_type": "code",
   "execution_count": 14,
   "outputs": [
    {
     "name": "stdout",
     "output_type": "stream",
     "text": [
      "Coefficient of variation: 0.6009831047962343\n"
     ]
    }
   ],
   "source": [
    "sigma = values.std()\n",
    "mu = values.mean()\n",
    "print(f\"Coefficient of variation: {sigma/mu}\")"
   ],
   "metadata": {
    "collapsed": false
   }
  },
  {
   "cell_type": "markdown",
   "source": [
    "### Covariance\n",
    "\n",
    "n probability theory and statistics, covariance is a measure of the joint variability of two random variables. If the greater values of one variable mainly correspond with the greater values of the other variable, and the same holds for the lesser values (that is, the variables tend to show similar behavior), the covariance is positive. In the opposite case, when the greater values of one variable mainly correspond to the lesser values of the other, (that is, the variables tend to show opposite behavior), the covariance is negative.\n",
    "\n",
    "The sign of the covariance therefore shows the tendency in the linear relationship between the variables.\n",
    "\n",
    "Given two series of values $X$ and $Y$, the covariance is:\n",
    "\n",
    "\\begin{equation}\n",
    "c_{xy} = \\frac{1}{n}\\sum_{i=1}^n(x_i - \\bar{x})(y_i - \\bar{y})\n",
    "\\end{equation}\n",
    "\n",
    "where $\\bar{x}$ and $\\bar{y}$ are the mean of the respective series.\n",
    "\n",
    "np.cov(v1, v2) return the covariance matrix. By selecting the indexes [0][1] you show the covariance computed by the formula above.\n",
    "\n",
    "The bias parameter equal to True it is necessary since it specify how to normalize the covariance.\n",
    "If bias=True the normalization is by \"N\" otherwise is by \"N-1\". This is because by default the cov() function perform the sample covariance and not the \"population\" covariance."
   ],
   "metadata": {
    "collapsed": false
   }
  },
  {
   "cell_type": "code",
   "execution_count": 17,
   "outputs": [
    {
     "name": "stdout",
     "output_type": "stream",
     "text": [
      "[[ 0.08171151 -0.03611054]\n",
      " [-0.03611054  0.09860654]]\n",
      "-0.036110536874274755\n"
     ]
    }
   ],
   "source": [
    "v1 = np.random.rand(10)\n",
    "v2 = np.random.rand(10)\n",
    "\n",
    "print(np.cov(v1, v2, bias=True))\n",
    "print(np.cov(v1, v2, bias=True)[0][1])"
   ],
   "metadata": {
    "collapsed": false
   }
  },
  {
   "cell_type": "code",
   "execution_count": null,
   "outputs": [],
   "source": [],
   "metadata": {
    "collapsed": false
   }
  }
 ],
 "metadata": {
  "kernelspec": {
   "display_name": "Python 3",
   "language": "python",
   "name": "python3"
  },
  "language_info": {
   "codemirror_mode": {
    "name": "ipython",
    "version": 2
   },
   "file_extension": ".py",
   "mimetype": "text/x-python",
   "name": "python",
   "nbconvert_exporter": "python",
   "pygments_lexer": "ipython2",
   "version": "2.7.6"
  }
 },
 "nbformat": 4,
 "nbformat_minor": 0
}
